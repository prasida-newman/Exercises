{
 "cells": [
  {
   "cell_type": "code",
   "execution_count": 3,
   "metadata": {},
   "outputs": [
    {
     "name": "stdout",
     "output_type": "stream",
     "text": [
      "star_wars ['tatooine', 'tie_fighter', 'x_wing', 'millenium_falcon', 'the_rebellion', 'the_empire'] []\n",
      "star_wars/tatooine [] []\n",
      "star_wars/tie_fighter [] ['darth_vader.txt']\n",
      "star_wars/x_wing [] ['luke_skywalker.txt']\n",
      "star_wars/millenium_falcon [] ['han_solo.txt', 'chewbacca.txt']\n",
      "star_wars/the_rebellion [] ['leia_organa.txt']\n",
      "star_wars/the_empire ['.ipynb_checkpoints'] []\n",
      "star_wars/the_empire/.ipynb_checkpoints [] []\n"
     ]
    }
   ],
   "source": [
    "import os\n",
    "\n",
    "solution = {}\n",
    "for dir_name, subdir_list, file_list in os.walk(\"star_wars\"):\n",
    "    # dir_name, subdir_list, file_list = os.walk(\".\")\n",
    "    print(dir_name, subdir_list, file_list)\n",
    "    solution[dir_name] = file_list"
   ]
  },
  {
   "cell_type": "code",
   "execution_count": null,
   "metadata": {},
   "outputs": [],
   "source": [
    "solution == {'star_wars': [], \n",
    "                        'star_wars/tatooine': [], \n",
    "                        'star_wars/tie_fighter': ['darth_vader.txt'], \n",
    "                        'star_wars/x_wing': ['luke_skywalker.txt'], \n",
    "                        'star_wars/millenium_falcon': ['han_solo.txt', 'chewbacca.txt'], \n",
    "                        'star_wars/the_rebellion': ['leia_organa.txt'], \n",
    "                        'star_wars/the_empire': []\n",
    "                        }"
   ]
  }
 ],
 "metadata": {
  "kernelspec": {
   "display_name": "Python 3",
   "language": "python",
   "name": "python3"
  },
  "language_info": {
   "codemirror_mode": {
    "name": "ipython",
    "version": 3
   },
   "file_extension": ".py",
   "mimetype": "text/x-python",
   "name": "python",
   "nbconvert_exporter": "python",
   "pygments_lexer": "ipython3",
   "version": "3.7.6"
  }
 },
 "nbformat": 4,
 "nbformat_minor": 4
}
